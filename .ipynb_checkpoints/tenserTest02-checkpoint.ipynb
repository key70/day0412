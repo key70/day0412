{
 "cells": [
  {
   "cell_type": "markdown",
   "metadata": {},
   "source": [
    "# 주피터노트북에서 Tensorflow 사용하기\n",
    "- 주피터 노트북에서 tensorflow 코드를 실험해 봅시다."
   ]
  },
  {
   "cell_type": "code",
   "execution_count": 2,
   "metadata": {},
   "outputs": [],
   "source": [
    "import matplotlib.pyplot as plt"
   ]
  },
  {
   "cell_type": "code",
   "execution_count": 3,
   "metadata": {},
   "outputs": [],
   "source": [
    "import numpy as np"
   ]
  },
  {
   "cell_type": "code",
   "execution_count": 4,
   "metadata": {},
   "outputs": [],
   "source": [
    "import pandas as pd"
   ]
  },
  {
   "cell_type": "code",
   "execution_count": 5,
   "metadata": {},
   "outputs": [],
   "source": [
    "import tensorflow as tf"
   ]
  },
  {
   "cell_type": "code",
   "execution_count": 7,
   "metadata": {},
   "outputs": [],
   "source": [
    "# constant ===> 상수만들기\n",
    "a = tf.constant(100)\n",
    "b = tf.constant(50)\n",
    "add_op=a+b\n",
    "\n",
    "# Variable    ==> 변수만들기\n",
    "v = tf.Variable(0)\n",
    "\n",
    "#add_op의 연산결과를 텐서변수 v에 대입하려고 한다.\n",
    "let_op = tf.assign(v, add_op)\n",
    "\n"
   ]
  },
  {
   "cell_type": "code",
   "execution_count": 8,
   "metadata": {},
   "outputs": [
    {
     "name": "stdout",
     "output_type": "stream",
     "text": [
      "150\n"
     ]
    }
   ],
   "source": [
    "\n",
    "#텐서를 실행시키기 위한 session을 생성\n",
    "sess = tf.Session()\n",
    "\n",
    "#텐서의 변수(Variable)를 사용하기 위해서는 반드시 초기화 과정을 거쳐야 해요.\n",
    "sess.run(tf.global_variables_initializer())\n",
    "\n",
    "#let_op 에 지정한 수식을 실행시켜요\n",
    "sess.run(let_op)\n",
    "\n",
    "#연산결과가 담긴 텐서 Varibale v의 내용을 출력해요\n",
    "print(sess.run(v))\n"
   ]
  },
  {
   "cell_type": "code",
   "execution_count": null,
   "metadata": {},
   "outputs": [],
   "source": []
  }
 ],
 "metadata": {
  "kernelspec": {
   "display_name": "Python 3",
   "language": "python",
   "name": "python3"
  },
  "language_info": {
   "codemirror_mode": {
    "name": "ipython",
    "version": 3
   },
   "file_extension": ".py",
   "mimetype": "text/x-python",
   "name": "python",
   "nbconvert_exporter": "python",
   "pygments_lexer": "ipython3",
   "version": "3.7.3"
  }
 },
 "nbformat": 4,
 "nbformat_minor": 2
}
